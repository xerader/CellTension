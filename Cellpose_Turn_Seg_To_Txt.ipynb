{
 "cells": [
  {
   "cell_type": "code",
   "execution_count": 1,
   "metadata": {},
   "outputs": [],
   "source": [
    "# Imports\n",
    "import numpy as np\n",
    "import matplotlib.pyplot as plt\n",
    "from cellpose import models, io, utils\n",
    "from cellpose.io import imread\n",
    "from pathlib import Path\n",
    "import os\n",
    "from PIL import Image"
   ]
  },
  {
   "cell_type": "code",
   "execution_count": 5,
   "metadata": {},
   "outputs": [],
   "source": [
    "# List of Files\n",
    "# Importing all the files\n",
    "basedir = os.path.join(Path.cwd(), \"Images\")\n",
    "files = io.get_image_files(basedir, \"\")\n",
    "\n",
    "# Makes the directy to point to the seg files\n",
    "dir = []\n",
    "for f in files: \n",
    "    dir.append((os.path.join(basedir, f) + \"_seg.npy\").replace(\".png\", \"\"))\n",
    "dir = dir[0:2]\n"
   ]
  },
  {
   "cell_type": "code",
   "execution_count": 16,
   "metadata": {},
   "outputs": [],
   "source": [
    "def checkROI(outA, outB): \n",
    "    lent = len(outA[0]) \n",
    "    count = 0 \n",
    "    outCount = 0 \n",
    "    # We iterate through the entire matrix which represents the two outlines. \n",
    "    for i in range(lent): \n",
    "        for j in range(lent - 1):\n",
    "            if (outA[i][j] != 0):  # Find how many pixels are used to make the outlines\n",
    "                outCount += 1      # outCount gives the number of pixels to create the outlines\n",
    "                if outB[i][j] != 0:\n",
    "                    count +=1      # The number of overlapping pixels in the first and second outlines\n",
    "    if outCount == 0:\n",
    "        print(\"no overlap\") \n",
    "        return False\n",
    "    elif count/outCount * 100 >= 10: \n",
    "        print(\"Overlap: \", count/outCount * 100 ) # If more that 10% of it overlaps, we say it's the same cell\n",
    "        return True\n",
    "    elif count > 0: \n",
    "        print(\"Some Overlap:\", count/outCount * 100) \n",
    "        return False \n",
    "    else: \n",
    "        return False"
   ]
  },
  {
   "cell_type": "code",
   "execution_count": 14,
   "metadata": {},
   "outputs": [],
   "source": []
  },
  {
   "cell_type": "code",
   "execution_count": 15,
   "metadata": {},
   "outputs": [],
   "source": [
    "datFirst = np.load(dir[1], allow_pickle=True).item()\n",
    "outlines = datFirst['outlines']\n",
    "maskFirst = datFirst['masks']\n",
    "imageFirst = datFirst['img']\n",
    "flowsFirst = datFirst['flows']\n",
    "diamFirst = datFirst['est_diam']\n",
    "filenameFirst = datFirst['filename']\n",
    "chanFirst = datFirst['chan_choose']\n",
    "\n",
    "arr = maskFirst\n",
    "arr[arr == 5] = 130\n",
    "\n",
    "cout = 0 \n",
    "for p in range(len(arr)): \n",
    "    for q in range(len(arr) - 1): \n",
    "        if arr[p][q] == 5:\n",
    "            cout += 1 \n",
    "\n",
    "cout\n",
    "arr[arr == 6] = 5\n",
    "arr[arr == 130] = 6"
   ]
  },
  {
   "cell_type": "code",
   "execution_count": 20,
   "metadata": {},
   "outputs": [
    {
     "data": {
      "text/plain": [
       "<matplotlib.image.AxesImage at 0x261ffdcb790>"
      ]
     },
     "execution_count": 20,
     "metadata": {},
     "output_type": "execute_result"
    },
    {
     "data": {
      "image/png": "[encoded data removed]",
      "text/plain": [
       "<Figure size 432x288 with 1 Axes>"
      ]
     },
     "metadata": {
      "needs_background": "light"
     },
     "output_type": "display_data"
    }
   ],
   "source": [
    "dat0 = np.load(dir[0], allow_pickle=True).item()\n",
    "mask0 = dat0['masks']\n",
    "\n",
    "plt.imshow(mask0)\n"
   ]
  }
 ],
 "metadata": {
  "kernelspec": {
   "display_name": "Python 3.9.12 ('cellpose')",
   "language": "python",
   "name": "python3"
  },
  "language_info": {
   "codemirror_mode": {
    "name": "ipython",
    "version": 3
   },
   "file_extension": ".py",
   "mimetype": "text/x-python",
   "name": "python",
   "nbconvert_exporter": "python",
   "pygments_lexer": "ipython3",
   "version": "3.9.12"
  },
  "orig_nbformat": 4,
  "vscode": {
   "interpreter": {
    "hash": "07e79b64467a9873b74688664f4af7980a2620104730d69d59df1947713f28a1"
   }
  }
 },
 "nbformat": 4,
 "nbformat_minor": 2
}
