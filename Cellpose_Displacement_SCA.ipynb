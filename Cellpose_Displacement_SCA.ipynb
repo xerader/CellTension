{
 "cells": [
  {
   "cell_type": "code",
   "execution_count": 92,
   "metadata": {},
   "outputs": [],
   "source": [
    "# Imports\n",
    "\n",
    "import numpy as np\n",
    "import matplotlib.pyplot as plt\n",
    "from cellpose import io\n",
    "from cellpose.io import imread\n",
    "import cv2\n",
    "from pathlib import Path\n",
    "import os\n",
    "import matplotlib as mpl\n",
    "import Modules\n",
    "from Modules_Displacement import lefCol, rightCol, botrow, toprow\n",
    "from Modules import specificOutline, getFileDir, getOutlines\n",
    "from PIL import Image\n",
    "from scipy import stats"
   ]
  },
  {
   "cell_type": "code",
   "execution_count": 168,
   "metadata": {},
   "outputs": [],
   "source": [
    "# List of Files\n",
    "# Importing all the files\n",
    "basedir = os.path.join(Path.cwd(), \"SingleCellAblation\")\n",
    "files = io.get_image_files(basedir, \"\")\n",
    "\n",
    "# Makes the directy to point to the seg files\n",
    "dir = []\n",
    "for f in files: \n",
    "    dir.append((os.path.join(basedir, f) + \"_seg.npy\").replace(\".png\", \"\"))\n",
    "dir = dir[3::]"
   ]
  },
  {
   "cell_type": "code",
   "execution_count": 169,
   "metadata": {},
   "outputs": [
    {
     "name": "stdout",
     "output_type": "stream",
     "text": [
      "c:\\Users\\birat\\Documents\\Internship_Code\\SCA_images\n"
     ]
    },
    {
     "data": {
      "image/png": "[encoded data removed]",
      "text/plain": [
       "<Figure size 432x288 with 1 Axes>"
      ]
     },
     "metadata": {
      "needs_background": "light"
     },
     "output_type": "display_data"
    }
   ],
   "source": [
    "# Code takes the ROI we need and creates png's of it\n",
    "\n",
    "i = 0 \n",
    "for i in range(len(dir)):  \n",
    "    dat = np.load(dir[i], allow_pickle=True).item()\n",
    "    masks = dat['masks']\n",
    "    filenam = dat['filename']\n",
    "    width, height = masks.shape\n",
    "    neededROI = masks[width//2][height//2]\n",
    "\n",
    "    newmas = specificOutline(masks, neededROI)\n",
    "    plt.imshow(newmas)\n",
    "    filedir = (os.path.join(Path.cwd(), \"SCA_images\" ))\n",
    "    nam = str(i) + '.png'\n",
    "    plt.gca().set_axis_off()\n",
    "    plt.imsave(os.path.join(filedir, nam), newmas,cmap = 'gray')\n",
    "\n",
    "print(filedir)"
   ]
  },
  {
   "cell_type": "code",
   "execution_count": 170,
   "metadata": {},
   "outputs": [],
   "source": [
    "files = io.get_image_files(filedir, \"\")\n",
    "imgs = [imread(f) for f in files]\n",
    "test = imgs[0]\n",
    "gray = test[:, :, 0]\n"
   ]
  },
  {
   "cell_type": "code",
   "execution_count": 134,
   "metadata": {},
   "outputs": [
    {
     "data": {
      "text/plain": [
       "<matplotlib.image.AxesImage at 0x2803ff31940>"
      ]
     },
     "execution_count": 134,
     "metadata": {},
     "output_type": "execute_result"
    },
    {
     "data": {
      "image/png": "[encoded data removed]",
      "text/plain": [
       "<Figure size 432x288 with 1 Axes>"
      ]
     },
     "metadata": {
      "needs_background": "light"
     },
     "output_type": "display_data"
    }
   ],
   "source": [
    "plt.imshow(imgs[6])"
   ]
  },
  {
   "cell_type": "code",
   "execution_count": 163,
   "metadata": {},
   "outputs": [],
   "source": [
    "def selfGetEdges(img):\n",
    "    gray = cv2.cvtColor(img, cv2.COLOR_BGR2GRAY)\n",
    "    x1, y1 = lefCol(gray)\n",
    "    x2, y2 = rightCol(gray)\n",
    "    x3, y3 = toprow(gray)\n",
    "    x4, y4 = botrow(gray)\n",
    "    # plt.imshow(gray)\n",
    "    # plt.scatter(x1, y1, color = 'red')\n",
    "    # plt.scatter(x2, y2, color = 'green')\n",
    "    # plt.scatter(y3, x3, color = 'blue')\n",
    "    # plt.scatter(y4, x4, color = 'purple')\n",
    "    return x1, y1, x2, y2, x3, y3, x4, y4\n"
   ]
  },
  {
   "cell_type": "code",
   "execution_count": 136,
   "metadata": {},
   "outputs": [],
   "source": [
    "def getEdges(test): \n",
    "    img_gray = cv2.cvtColor(test, cv2.COLOR_BGR2GRAY)\n",
    "    ret, thresh = cv2.threshold(img_gray, 150, 255, cv2.THRESH_BINARY)\n",
    "    contours, hierarchy = cv2.findContours(image=thresh, mode=cv2.RETR_TREE, method=cv2.CHAIN_APPROX_NONE)\n",
    "    image_copy = img_gray.copy()\n",
    "    img = cv2.cvtColor(image_copy, cv2.COLOR_GRAY2BGR)\n",
    "    cv2.drawContours(image=img, contours=contours, contourIdx=-1, color= (0, 255, 0), thickness=0, lineType=cv2.LINE_AA)\n",
    "\n",
    "    c = max(contours, key=cv2.contourArea)\n",
    "\n",
    "    # Obtain outer coordinates\n",
    "    l1, l2 = tuple(c[c[:, :, 0].argmin()][0])\n",
    "    r1, r2 = tuple(c[c[:, :, 0].argmax()][0])\n",
    "    t1, t2 = tuple(c[c[:, :, 1].argmin()][0])\n",
    "    b1, b2 = tuple(c[c[:, :, 1].argmax()][0])\n",
    "    # plt.imshow(cv2.cvtColor(img, cv2.COLOR_BGR2RGB))\n",
    "    # plt.scatter(l1, l2)\n",
    "    # plt.scatter(r1, r2)\n",
    "    # plt.scatter(t1, t2)\n",
    "    # plt.scatter(b1, b2)\n",
    "    return l1, l2, r1, r2, t1, t2, b1, b2\n",
    "\n",
    "def GetDisplacement(e1, e2): \n",
    "    dis = []\n",
    "    for i in range(len(e1) - 1): \n",
    "        dis.append(np.sqrt((e1[i] - e1[i + 1])**2 + (e2[i] - e2[i+1])**2))\n",
    "        \n",
    "    return dis\n"
   ]
  },
  {
   "cell_type": "code",
   "execution_count": 182,
   "metadata": {},
   "outputs": [],
   "source": [
    "def stuff(imgs):\n",
    "    a = []\n",
    "    for i in range(55):\n",
    "        a.append(getEdges(imgs[i]))\n",
    "    return a\n",
    "\n",
    "a = stuff(imgs)\n",
    "a = np.asarray(a)\n",
    "L1 = L2 = R1= R2= T1= T2= B1= B2 = np.zeros(99)\n",
    "a\n",
    "L1 = a[:, 0]\n",
    "L2 = a[:, 1]\n",
    "R1 = a[:, 2]\n",
    "R2 = a[:, 3]\n",
    "T1 = a[:, 4]\n",
    "T2 = a[:, 5]\n",
    "B1 = a[:, 6]\n",
    "B2 = a[:, 7]"
   ]
  },
  {
   "cell_type": "code",
   "execution_count": 185,
   "metadata": {},
   "outputs": [],
   "source": [
    "LD = GetDisplacement(L1, L2)\n",
    "RD = GetDisplacement(R1, R2) \n",
    "TD = GetDisplacement(T1, T2)\n",
    "BD = GetDisplacement(B1, B2)"
   ]
  },
  {
   "cell_type": "code",
   "execution_count": 189,
   "metadata": {},
   "outputs": [
    {
     "data": {
      "text/plain": [
       "[<matplotlib.lines.Line2D at 0x28047e00f10>]"
      ]
     },
     "execution_count": 189,
     "metadata": {},
     "output_type": "execute_result"
    },
    {
     "data": {
      "image/png": "[encoded data removed]",
      "text/plain": [
       "<Figure size 432x288 with 1 Axes>"
      ]
     },
     "metadata": {
      "needs_background": "light"
     },
     "output_type": "display_data"
    }
   ],
   "source": [
    "x = np.linspace(0, 100, len(LD))\n",
    "plt.plot(x, RD)"
   ]
  },
  {
   "cell_type": "code",
   "execution_count": 187,
   "metadata": {},
   "outputs": [
    {
     "data": {
      "text/plain": [
       "1"
      ]
     },
     "execution_count": 187,
     "metadata": {},
     "output_type": "execute_result"
    }
   ],
   "source": []
  },
  {
   "cell_type": "code",
   "execution_count": 36,
   "metadata": {},
   "outputs": [],
   "source": []
  },
  {
   "cell_type": "code",
   "execution_count": 10,
   "metadata": {},
   "outputs": [
    {
     "data": {
      "text/plain": [
       "<matplotlib.collections.PathCollection at 0x2803fd65130>"
      ]
     },
     "execution_count": 10,
     "metadata": {},
     "output_type": "execute_result"
    },
    {
     "data": {
      "image/png": "[encoded data removed]",
      "text/plain": [
       "<Figure size 432x288 with 1 Axes>"
      ]
     },
     "metadata": {
      "needs_background": "light"
     },
     "output_type": "display_data"
    }
   ],
   "source": [
    "l1, l2, r1, r2, b1, b2, t1, t2= getEdges(imgs[0])\n",
    "plt.imshow(imgs[0])\n",
    "plt.scatter(l1, l2)\n",
    "plt.scatter(r1, r2)\n",
    "plt.scatter(b1, b2)\n",
    "plt.scatter(t1, t2)"
   ]
  }
 ],
 "metadata": {
  "kernelspec": {
   "display_name": "Python 3.9.12 ('cellpose')",
   "language": "python",
   "name": "python3"
  },
  "language_info": {
   "codemirror_mode": {
    "name": "ipython",
    "version": 3
   },
   "file_extension": ".py",
   "mimetype": "text/x-python",
   "name": "python",
   "nbconvert_exporter": "python",
   "pygments_lexer": "ipython3",
   "version": "3.9.12"
  },
  "orig_nbformat": 4,
  "vscode": {
   "interpreter": {
    "hash": "07e79b64467a9873b74688664f4af7980a2620104730d69d59df1947713f28a1"
   }
  }
 },
 "nbformat": 4,
 "nbformat_minor": 2
}
