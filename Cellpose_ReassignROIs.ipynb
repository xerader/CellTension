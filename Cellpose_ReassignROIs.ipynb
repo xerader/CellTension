{
 "cells": [
  {
   "cell_type": "markdown",
   "metadata": {},
   "source": [
    "# Cellpose Reassign ROIs\n",
    "\n",
    "Cellpose marks every cell it detects with a ROI number (Region of Interest). However, as the machine learning method is not perfect, we have to relabel each ROI so that the same cell has the same ROI. This helps us in determining the displacement later"
   ]
  },
  {
   "cell_type": "code",
   "execution_count": 2,
   "metadata": {},
   "outputs": [],
   "source": [
    "# Imports\n",
    "import numpy as np\n",
    "import matplotlib.pyplot as plt\n",
    "from cellpose import models, io, utils\n",
    "from cellpose.io import imread\n",
    "from pathlib import Path\n",
    "import os\n",
    "from PIL import Image"
   ]
  },
  {
   "cell_type": "code",
   "execution_count": 3,
   "metadata": {},
   "outputs": [],
   "source": [
    "# List of Files\n",
    "# Importing all the files\n",
    "basedir = os.path.join(Path.cwd(), \"Images\")\n",
    "files = io.get_image_files(basedir, \"\")\n",
    "\n",
    "# Makes the directy to point to the seg files\n",
    "dir = []\n",
    "filesNames = []\n",
    "for f in files: \n",
    "    a = (os.path.join(basedir, f) + \"_seg.npy\").replace(\".png\", \"\")\n",
    "    dir.append(a)\n",
    "    filesNames.append(os.path.basename(os.path.normpath(a)))\n",
    "dir = dir[0:10] # stores the seg files ignores the first \n",
    "\n"
   ]
  },
  {
   "cell_type": "code",
   "execution_count": 113,
   "metadata": {},
   "outputs": [],
   "source": [
    "def fileNameFromPath(dre): \n",
    "    a = (os.path.basename(os.path.normpath(dre)))\n",
    "    count = 0 \n",
    "    char = a[0]\n",
    "    num = \"\"\n",
    "\n",
    "    while char != \"_\": \n",
    "        count += 1\n",
    "        num += char\n",
    "        char = a[count]\n",
    "    \n",
    "    return int(num)"
   ]
  },
  {
   "cell_type": "markdown",
   "metadata": {},
   "source": [
    "In order to reassign the ROIs we need to get the Outlines of a specific files we are dealing with. For relabelling, I have chosen the first .npy file after segmentation as a reference. First we create a function to get a \n"
   ]
  },
  {
   "cell_type": "code",
   "execution_count": 4,
   "metadata": {},
   "outputs": [],
   "source": [
    "def getOutlines(fileOne, fileTwo, Mask = False): # takes in the directory to the first and second files\n",
    "    # Import the first oultine\n",
    "\n",
    "    datOne = np.load(fileOne, allow_pickle=True).item()\n",
    "    masksOne = datOne['masks']\n",
    "    outlinesOne = datOne['outlines']\n",
    "\n",
    "    datTwo = np.load(fileTwo, allow_pickle=True).item()\n",
    "    masksTwo = datTwo['masks']\n",
    "    outlinesTwo = datTwo['outlines']\n",
    "    if Mask == False: \n",
    "        return  (outlinesOne, outlinesTwo)\n",
    "    elif Mask == True: \n",
    "        return (masksOne, masksTwo)"
   ]
  },
  {
   "cell_type": "markdown",
   "metadata": {},
   "source": [
    "Now, we can make a cuntion to get a specific roi from the matrix. As the Matrix is constructed as follows (an example): \n",
    "\n",
    "00110220 <br>\n",
    "01001202 <br>\n",
    "01110220 <br>\n",
    "00000000 <br>\n",
    "\n",
    "The 0 indicates there is no outline there. The number indicates that there is a pixel at that poistion, and the value of the number indicates it's ROI. By filtering out the values of the ROI that we want, we can proceed as we do"
   ]
  },
  {
   "cell_type": "code",
   "execution_count": 5,
   "metadata": {},
   "outputs": [],
   "source": [
    "# Returns a specific outline given an roi \n",
    "def specificOutline(imgarr, roi): # takes in an imagearr and the roi\n",
    "    empty = np.zeros_like(imgarr) \n",
    "    specific = np.where(imgarr == roi, imgarr, empty)\n",
    "    return specific\n",
    "\n",
    "def plotSide(a, b): # plots two outlines side by side. Made for convenience\n",
    "    full, fullarr = plt.subplots(1,2)\n",
    "    fullarr[0].imshow(a)\n",
    "    fullarr[1].imshow(b)"
   ]
  },
  {
   "cell_type": "code",
   "execution_count": 144,
   "metadata": {},
   "outputs": [],
   "source": [
    "# Function to see if the ROI Matches\n",
    "def checkROI(outA, outB): # input two outlines as matrixes\n",
    "    row, col = outA.shape\n",
    "    count = 0\n",
    "    outCount = 0 \n",
    "    # We iterate through the entire matrix which represents the two outlines. \n",
    "    for i in range(row): \n",
    "        for j in range(col):\n",
    "            if (outA[i][j] != 0):  # Find how many pixels are used to make the outlines\n",
    "                outCount += 1      # outCount gives the number of pixels to create the outlines\n",
    "                if outB[i][j] != 0:\n",
    "                    count +=1      # The number of overlapping pixels in the first and second outlines\n",
    "    if outCount == 0:\n",
    "        # print(\"no overlap:\") \n",
    "        return False\n",
    "    elif count/outCount * 100 >= 10: \n",
    "        # print(\"Overlap:\", count/outCount * 100 ) # If more that 10% of it overlaps, we say it's the same cell\n",
    "        return True\n",
    "    elif count > 0: \n",
    "        print(\"Some Overlap:\", count/outCount * 100) \n",
    "        return False \n",
    "    else: \n",
    "        return False"
   ]
  },
  {
   "cell_type": "code",
   "execution_count": 185,
   "metadata": {},
   "outputs": [],
   "source": [
    "def findNonMatching(directory, lower, upper):\n",
    "    \n",
    "    weird = [] # Stores the weird/not working files. Namely the ones that dont' have matching ROIs\n",
    "    BadOnes = [] # stores how many weird ones there are per frame \n",
    "\n",
    "    # Following code gives back a tuple with (index number, number of incorrectly labeled ROIs, an array with the outlines that aren't working)\n",
    "    for i in range(lower, upper): # start from 1 as 0 doesn't matter\n",
    "        outlinesFirst, outlinesLast = getOutlines(directory[0],  directory[i])\n",
    "        weird = []\n",
    "        \n",
    "        for out in range(1, np.amax(outlinesLast)): \n",
    "            outA = specificOutline(outlinesFirst, out)\n",
    "            outB = specificOutline(outlinesLast, out)\n",
    "            check = checkROI(outA, outB)\n",
    "            if check == False:\n",
    "                weird.append(out)\n",
    "            # full, fullarr = plt.subplots(1,2)\n",
    "            # fullarr[0].imshow(outA)\n",
    "            # fullarr[1].imshow(outB)\n",
    "          \n",
    "        if len(weird) > 0: \n",
    "            BadOnes.append((fileNameFromPath(directory[i]), weird))\n",
    "    return BadOnes\n",
    "\n",
    "# Bad = findNonMatching(dir, len(dir))\n"
   ]
  },
  {
   "cell_type": "code",
   "execution_count": 109,
   "metadata": {},
   "outputs": [],
   "source": [
    "def FixROI(A, B, roi): # Takes in an Array and the outline u want\n",
    "    # initializing\n",
    "    sigma = 0 \n",
    "    count = 0 \n",
    "    loopNum = 0 \n",
    "\n",
    "    a = specificOutline(A, roi)\n",
    "    b = specificOutline(B, roi)\n",
    "\n",
    "    while (checkROI(a, b) == False) and  (0 < roi + sigma < np.amax(B)):\n",
    "        sigma = count * (-1)**loopNum  # Lets us check the ROI above and below \n",
    "        b = specificOutline(B, roi + sigma)\n",
    "        if loopNum % 2 != 0: # number is odd\n",
    "            countFinder = loopNum - 1 \n",
    "        else: \n",
    "            countFinder = loopNum\n",
    "        count = 0.5 * countFinder + 1\n",
    "        loopNum += 1\n",
    "        \n",
    "    return (roi + sigma)\n",
    "\n"
   ]
  },
  {
   "cell_type": "code",
   "execution_count": 110,
   "metadata": {},
   "outputs": [],
   "source": [
    "def evalOne(filename, M): \n",
    "    img = imread(filename)\n",
    "    modeldir = os.path.join(Path.cwd(),\"Images\",\"models\",\"Rebirth_2\") \n",
    "    model = models.CellposeModel(gpu = True, pretrained_model = modeldir)\n",
    "    masks, flows, styles = model.eval(img, diameter=None, channels=[0,0])\n",
    "    # save results so you can load in gui\n",
    "    io.masks_flows_to_seg(img, M, flows, styles, filename, [0,0])\n"
   ]
  },
  {
   "cell_type": "code",
   "execution_count": 10,
   "metadata": {},
   "outputs": [],
   "source": [
    "def getROI(Segdir, all = False): # Requires directory to the segmentation.npy files \n",
    "    from statistics import mode\n",
    "    max = []\n",
    "    for d in Segdir: \n",
    "        dat = np.load(d, allow_pickle=True).item()\n",
    "        max.append(np.amax(dat['masks']))\n",
    "    if all == False: \n",
    "        return mode(max)\n",
    "    elif all == True: \n",
    "        return max"
   ]
  },
  {
   "cell_type": "code",
   "execution_count": 186,
   "metadata": {},
   "outputs": [
    {
     "ename": "TypeError",
     "evalue": "findNonMatching() missing 1 required positional argument: 'upper'",
     "output_type": "error",
     "traceback": [
      "\u001b[1;31m---------------------------------------------------------------------------\u001b[0m",
      "\u001b[1;31mTypeError\u001b[0m                                 Traceback (most recent call last)",
      "\u001b[1;32mc:\\Users\\birat\\Documents\\Internship_Code\\Cellpose_ReassignROIs.ipynb Cell 14\u001b[0m in \u001b[0;36m<cell line: 1>\u001b[1;34m()\u001b[0m\n\u001b[1;32m----> <a href='vscode-notebook-cell:/c%3A/Users/birat/Documents/Internship_Code/Cellpose_ReassignROIs.ipynb#X40sZmlsZQ%3D%3D?line=0'>1</a>\u001b[0m L \u001b[39m=\u001b[39m findNonMatching(\u001b[39mdir\u001b[39;49m, \u001b[39m5\u001b[39;49m)\n\u001b[0;32m      <a href='vscode-notebook-cell:/c%3A/Users/birat/Documents/Internship_Code/Cellpose_ReassignROIs.ipynb#X40sZmlsZQ%3D%3D?line=1'>2</a>\u001b[0m FileNum, wrongROIs \u001b[39m=\u001b[39m L[\u001b[39m1\u001b[39m]\n\u001b[0;32m      <a href='vscode-notebook-cell:/c%3A/Users/birat/Documents/Internship_Code/Cellpose_ReassignROIs.ipynb#X40sZmlsZQ%3D%3D?line=2'>3</a>\u001b[0m dat \u001b[39m=\u001b[39m np\u001b[39m.\u001b[39mload(\u001b[39mdir\u001b[39m[FileNum], allow_pickle\u001b[39m=\u001b[39m\u001b[39mTrue\u001b[39;00m)\u001b[39m.\u001b[39mitem()\n",
      "\u001b[1;31mTypeError\u001b[0m: findNonMatching() missing 1 required positional argument: 'upper'"
     ]
    }
   ],
   "source": [
    "L = findNonMatching(dir, 4, 5)\n",
    "FileNum, wrongROIs = L[1]\n",
    "dat = np.load(dir[FileNum], allow_pickle=True).item()\n",
    "masks = dat['masks']\n",
    "name = dat['filename']\n",
    "arr1, arr2 = getOutlines(dir[0], dir[FileNum])"
   ]
  },
  {
   "cell_type": "code",
   "execution_count": 197,
   "metadata": {},
   "outputs": [
    {
     "name": "stdout",
     "output_type": "stream",
     "text": [
      "(3, [17, 21, 24, 43])\n"
     ]
    }
   ],
   "source": [
    "L = findNonMatching(dir, 3, 4)\n",
    "FileNum, wrongROIs = L[0]\n",
    "arr1, arr2 = getOutlines(dir[0], dir[FileNum])\n",
    "masks = dat['masks']\n",
    "name = dat['filename']\n",
    "\n",
    "print(L[0])"
   ]
  },
  {
   "cell_type": "code",
   "execution_count": 200,
   "metadata": {},
   "outputs": [
    {
     "data": {
      "text/plain": [
       "23"
      ]
     },
     "execution_count": 200,
     "metadata": {},
     "output_type": "execute_result"
    }
   ],
   "source": [
    "FixROI(arr1, arr2, 23)"
   ]
  },
  {
   "cell_type": "code",
   "execution_count": 182,
   "metadata": {},
   "outputs": [],
   "source": []
  },
  {
   "cell_type": "code",
   "execution_count": 133,
   "metadata": {},
   "outputs": [
    {
     "data": {
      "image/png": "[encoded data removed]",
      "text/plain": [
       "<Figure size 432x288 with 1 Axes>"
      ]
     },
     "metadata": {
      "needs_background": "light"
     },
     "output_type": "display_data"
    },
    {
     "data": {
      "image/png": "[encoded data removed]",
      "text/plain": [
       "<Figure size 432x288 with 2 Axes>"
      ]
     },
     "metadata": {
      "needs_background": "light"
     },
     "output_type": "display_data"
    }
   ],
   "source": [
    "FixROI(arr1, arr2, 17)\n",
    "plt.imshow(specificOutline(arr2, 17))\n",
    "checkROI(specificOutline(arr1, 17), specificOutline(arr2, 17))\n",
    "plotSide(specificOutline(arr1, 17), specificOutline(arr2, 17))"
   ]
  }
 ],
 "metadata": {
  "kernelspec": {
   "display_name": "Python 3.9.12 ('cellpose')",
   "language": "python",
   "name": "python3"
  },
  "language_info": {
   "codemirror_mode": {
    "name": "ipython",
    "version": 3
   },
   "file_extension": ".py",
   "mimetype": "text/x-python",
   "name": "python",
   "nbconvert_exporter": "python",
   "pygments_lexer": "ipython3",
   "version": "3.9.12"
  },
  "orig_nbformat": 4,
  "vscode": {
   "interpreter": {
    "hash": "07e79b64467a9873b74688664f4af7980a2620104730d69d59df1947713f28a1"
   }
  }
 },
 "nbformat": 4,
 "nbformat_minor": 2
}
