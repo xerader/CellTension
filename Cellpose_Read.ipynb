{
 "cells": [
  {
   "cell_type": "code",
   "execution_count": 23,
   "metadata": {},
   "outputs": [],
   "source": [
    "import numpy as np\n",
    "import matplotlib.pyplot as plt\n",
    "from cellpose import models, io\n",
    "from cellpose.io import imread\n",
    "from pathlib import Path\n",
    "import os\n",
    "import Modules\n",
    "# List of Files\n",
    "basedir = os.path.join(Path.cwd(), \"Images\") # c:\\Users\\birat\\Documents\\Internship_Code\\Images\n",
    "files = io.get_image_files(basedir, \"\")\n",
    "files = files[3::]\n"
   ]
  },
  {
   "cell_type": "code",
   "execution_count": 24,
   "metadata": {},
   "outputs": [],
   "source": [
    "from PIL import Image\n",
    "# Makes the directy to point to the seg files\n",
    "Segdir = []\n",
    "for f in files: \n",
    "    Segdir.append((os.path.join(basedir, f) + \"_seg.npy\").replace(\".png\", \"\"))"
   ]
  },
  {
   "cell_type": "code",
   "execution_count": 25,
   "metadata": {},
   "outputs": [],
   "source": [
    "def getROI(Segdir, all = False): # Requires directory to the segmentation.npy files \n",
    "    from statistics import mode\n",
    "    max = []\n",
    "    for d in Segdir: \n",
    "        dat = np.load(d, allow_pickle=True).item()\n",
    "        max.append(np.amax(dat['masks']))\n",
    "    if all == False: \n",
    "        return mode(max)\n",
    "    elif all == True: \n",
    "        return max"
   ]
  },
  {
   "cell_type": "code",
   "execution_count": 26,
   "metadata": {},
   "outputs": [],
   "source": [
    "def evalOne(filename, flowe = 0.4, mm): \n",
    "    img = imread(filename)\n",
    "    modeldir = os.path.join(Path.cwd(),\"Images\",\"models\",\"Old_Model\") \n",
    "    model = models.CellposeModel(gpu = True, pretrained_model = modeldir)\n",
    "    masks, flows, styles = model.eval(img, diameter=None, channels=[0,0], flow_threshold=flowe)\n",
    "    # save results so you can load in gui\n",
    "    io.masks_flows_to_seg(img, mm, flows, styles, filename, [0,0])\n",
    "\n",
    "def LowerFlow(Segdir, imgdir): # Takes in the directory of the thingy \n",
    "    count = 0  \n",
    "    roiList = getROI(Segdir, all = True)\n",
    "    roi = getROI(Segdir)\n",
    "    for ROI in roiList:\n",
    "        print(\"ROI: \", ROI) \n",
    "        if ROI != roi: # If not the mode ROI, \n",
    "            flowe = 0.4\n",
    "            badROI = ROI \n",
    "            count = 0 \n",
    "            while badROI != roi or count == 4:\n",
    "                if ROI < roi:\n",
    "                    flowe = flowe + 0.05\n",
    "                    print(\"Increased Flow: \", flowe)\n",
    "                elif ROI > roi: \n",
    "                    flowe = flowe - 0.05\n",
    "                    print(\"Decreased Flow: \", flowe)\n",
    "\n",
    "                count += 1\n",
    "                print(count)\n",
    "                evalOne(imgdir[count], flowe ) # Evaluate till it is \n",
    "                print(\"evaluated\")\n",
    "                \n",
    "                newROIList = getROI(Segdir, True)\n",
    "                badROI = newROIList[count]\n",
    "                count +=1\n",
    "    print(\"completed\")"
   ]
  },
  {
   "cell_type": "code",
   "execution_count": 1,
   "metadata": {},
   "outputs": [
    {
     "ename": "NameError",
     "evalue": "name 'Modules' is not defined",
     "output_type": "error",
     "traceback": [
      "\u001b[1;31m---------------------------------------------------------------------------\u001b[0m",
      "\u001b[1;31mNameError\u001b[0m                                 Traceback (most recent call last)",
      "\u001b[1;32mc:\\Users\\birat\\Documents\\Internship_Code\\Cellpose_Read.ipynb Cell 5\u001b[0m in \u001b[0;36m<cell line: 1>\u001b[1;34m()\u001b[0m\n\u001b[1;32m----> <a href='vscode-notebook-cell:/c%3A/Users/birat/Documents/Internship_Code/Cellpose_Read.ipynb#ch0000004?line=0'>1</a>\u001b[0m segFiles \u001b[39m=\u001b[39m Modules\u001b[39m.\u001b[39mgetFileDir(seg\u001b[39m=\u001b[39m\u001b[39mTrue\u001b[39;00m)\n\u001b[0;32m      <a href='vscode-notebook-cell:/c%3A/Users/birat/Documents/Internship_Code/Cellpose_Read.ipynb#ch0000004?line=1'>2</a>\u001b[0m imgFiles \u001b[39m=\u001b[39m Modules\u001b[39m.\u001b[39mgetFileDir()\n\u001b[0;32m      <a href='vscode-notebook-cell:/c%3A/Users/birat/Documents/Internship_Code/Cellpose_Read.ipynb#ch0000004?line=2'>3</a>\u001b[0m segFiles \u001b[39m=\u001b[39m segFiles[\u001b[39m3\u001b[39m::]\n",
      "\u001b[1;31mNameError\u001b[0m: name 'Modules' is not defined"
     ]
    }
   ],
   "source": [
    "segFiles = Modules.getFileDir(seg=True)\n",
    "imgFiles = Modules.getFileDir()\n",
    "segFiles = segFiles[3::]\n",
    "a = getROI(segFiles, all = True)\n",
    "\n",
    "# segDir = segFiles[-3]\n",
    "# imgDir = imgFiles[-3]\n",
    "# LowerFlow(segFiles, imgFiles)\n",
    "\n"
   ]
  },
  {
   "cell_type": "code",
   "execution_count": 17,
   "metadata": {},
   "outputs": [
    {
     "ename": "TypeError",
     "evalue": "'builtin_function_or_method' object is not iterable",
     "output_type": "error",
     "traceback": [
      "\u001b[1;31m---------------------------------------------------------------------------\u001b[0m",
      "\u001b[1;31mTypeError\u001b[0m                                 Traceback (most recent call last)",
      "\u001b[1;32mc:\\Users\\birat\\Documents\\Internship_Code\\Cellpose_Read.ipynb Cell 6\u001b[0m in \u001b[0;36m<cell line: 4>\u001b[1;34m()\u001b[0m\n\u001b[0;32m      <a href='vscode-notebook-cell:/c%3A/Users/birat/Documents/Internship_Code/Cellpose_Read.ipynb#ch0000005?line=0'>1</a>\u001b[0m \u001b[39mfrom\u001b[39;00m \u001b[39mcellpose\u001b[39;00m \u001b[39mimport\u001b[39;00m plot, utils\n\u001b[0;32m      <a href='vscode-notebook-cell:/c%3A/Users/birat/Documents/Internship_Code/Cellpose_Read.ipynb#ch0000005?line=2'>3</a>\u001b[0m count \u001b[39m=\u001b[39m \u001b[39m0\u001b[39m \n\u001b[1;32m----> <a href='vscode-notebook-cell:/c%3A/Users/birat/Documents/Internship_Code/Cellpose_Read.ipynb#ch0000005?line=3'>4</a>\u001b[0m \u001b[39mfor\u001b[39;00m d \u001b[39min\u001b[39;00m \u001b[39mdir\u001b[39m: \n\u001b[0;32m      <a href='vscode-notebook-cell:/c%3A/Users/birat/Documents/Internship_Code/Cellpose_Read.ipynb#ch0000005?line=4'>5</a>\u001b[0m     dat \u001b[39m=\u001b[39m np\u001b[39m.\u001b[39mload(d, allow_pickle\u001b[39m=\u001b[39m\u001b[39mTrue\u001b[39;00m)\u001b[39m.\u001b[39mitem()\n\u001b[0;32m      <a href='vscode-notebook-cell:/c%3A/Users/birat/Documents/Internship_Code/Cellpose_Read.ipynb#ch0000005?line=5'>6</a>\u001b[0m     outlines \u001b[39m=\u001b[39m utils\u001b[39m.\u001b[39moutlines_list(dat[\u001b[39m'\u001b[39m\u001b[39mmasks\u001b[39m\u001b[39m'\u001b[39m])\n",
      "\u001b[1;31mTypeError\u001b[0m: 'builtin_function_or_method' object is not iterable"
     ]
    }
   ],
   "source": [
    "from cellpose import plot, utils\n",
    "\n",
    "count = 0 \n",
    "for d in dir: \n",
    "    dat = np.load(d, allow_pickle=True).item()\n",
    "    outlines = utils.outlines_list(dat['masks'])\n",
    "    fig = plt.figure()\n",
    "    fig.set_size_inches((5, 5))\n",
    "    for o in outlines:\n",
    "        plt.plot(o[:,0], o[:,1], color='black')\n",
    "    ax = plt.Axes(fig, [0, 0, 1, 1])\n",
    "\n",
    "    plt.axis('off')\n",
    "    plt.margins(x=0, y =0)\n",
    "    savedir = \".\\\\Plots\\\\\" + str(count)\n",
    "    count += 1 \n",
    "    plt.savefig(savedir)\n",
    "\n",
    "    # Plots the figures in grayscale"
   ]
  }
 ],
 "metadata": {
  "kernelspec": {
   "display_name": "Python 3.9.12 ('base')",
   "language": "python",
   "name": "python3"
  },
  "language_info": {
   "codemirror_mode": {
    "name": "ipython",
    "version": 3
   },
   "file_extension": ".py",
   "mimetype": "text/x-python",
   "name": "python",
   "nbconvert_exporter": "python",
   "pygments_lexer": "ipython3",
   "version": "3.9.12"
  },
  "orig_nbformat": 4,
  "vscode": {
   "interpreter": {
    "hash": "d850ae00bc40dfc8433057f5becab0d0ff9bac1b3b7822254cc13391e260b37a"
   }
  }
 },
 "nbformat": 4,
 "nbformat_minor": 2
}
