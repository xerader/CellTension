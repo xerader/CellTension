{
 "cells": [
  {
   "cell_type": "markdown",
   "metadata": {},
   "source": [
    "# Cellpose Training\n",
    "Computer Vision is a  field of computer science which deal with mainpulating and analysing images and obtaining meaningful results from it. \n",
    "\n",
    "In this code, we are using Cellpose, a python-based cell segmentation toolkit. Using machine learning, it detects the cell walls of the images provided, which helps us to segment the cells. We start by having the imports\n"
   ]
  },
  {
   "cell_type": "code",
   "execution_count": 2,
   "metadata": {},
   "outputs": [],
   "source": [
    "# imports\n",
    "import numpy as np \n",
    "import matplotlib.pyplot as plt\n",
    "from cellpose import models, io\n",
    "from cellpose.io import imread\n",
    "from pathlib import Path\n",
    "import os\n"
   ]
  },
  {
   "cell_type": "markdown",
   "metadata": {},
   "source": [
    "Using the Cellpose GUI, we can use a pre-existing model and build upon it by correcting the ROIs manually. After this was done, a custom model, named here \"Rebirth_2\" was generated. The directory to this file is provided. We also have a folder, titled \"basedir\" which is the directory of the images that are to be processed. "
   ]
  },
  {
   "cell_type": "code",
   "execution_count": 5,
   "metadata": {},
   "outputs": [],
   "source": [
    "\n",
    "# The directory to the model\n",
    "# modeldir = os.path.join(Path.cwd(),\"Images\",\"models\",\"Cellpose_Other_5\")  \n",
    "\n",
    "# Another way to represent this is simply have modeldir = \"C:\\PATH TO THE FILE\\\" for example \n",
    "# modeldir = \"C:\\Users\\UserName\\Desktop\\CellTension\\Models\\ModelName\"\n",
    "\n",
    "# The directory to where the png images are\n",
    "basedir = os.path.join(Path.cwd(), \"Images\")\n",
    "files = io.get_image_files(basedir, \"\") # this function obtains all the images from the directory given\n",
    "files = files[0::]\n",
    "\n",
    "model = models.CellposeModel(gpu = True, model_type= \"Rebirth_2\") # We initilize the model and give the directory to our model\n",
    "# model = models.CellposeModel(gpu = True, pretrained_model= modeldir) # We initilize the model and give the directory to our model\n",
    "\n",
    "\n",
    "\n",
    "imgs = [imread(f) for f in files] # read the images and store them as a numpy array \n",
    "nimg = len(imgs) # The number of images we have\n",
    "channels = [[0,0]] # This specifies the images are all in grayscale\n"
   ]
  },
  {
   "cell_type": "markdown",
   "metadata": {},
   "source": [
    "Using the cellpose.models.CellposeModel function, we can define our model variable. After that, using the model.eval function (which can be run in a loop) we can run our model on every image. \n",
    "\n",
    "These images are then saved as .npy files."
   ]
  },
  {
   "cell_type": "code",
   "execution_count": 6,
   "metadata": {},
   "outputs": [],
   "source": [
    "for filename in files:\n",
    "    img = io.imread(filename)\n",
    "    masks, flows, styles = model.eval(img, diameter=None, channels=[0,0]) # The training process\n",
    "    # save results so you can load in gui\n",
    "    io.masks_flows_to_seg(img, masks, flows, styles, filename, [0,0]) # This creates the segmentation file which is important\n",
    "    # save results as png\n",
    "    # io.save_to_png(img, masks, flows, filename)"
   ]
  }
 ],
 "metadata": {
  "kernelspec": {
   "display_name": "Python 3.9.12 ('base')",
   "language": "python",
   "name": "python3"
  },
  "language_info": {
   "codemirror_mode": {
    "name": "ipython",
    "version": 3
   },
   "file_extension": ".py",
   "mimetype": "text/x-python",
   "name": "python",
   "nbconvert_exporter": "python",
   "pygments_lexer": "ipython3",
   "version": "3.9.12"
  },
  "orig_nbformat": 4,
  "vscode": {
   "interpreter": {
    "hash": "d850ae00bc40dfc8433057f5becab0d0ff9bac1b3b7822254cc13391e260b37a"
   }
  }
 },
 "nbformat": 4,
 "nbformat_minor": 2
}
