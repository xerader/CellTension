{
 "cells": [
  {
   "cell_type": "code",
   "execution_count": 9,
   "metadata": {},
   "outputs": [],
   "source": [
    "from PIL import Image\n",
    "import os\n",
    "from pathlib import Path \n",
    "import numpy as np\n",
    "from cellpose import io\n",
    "from matplotlib import image\n",
    "\n",
    "# List of Files\n",
    "basedir = os.path.join(Path.cwd(), \"Plots\")\n",
    "files = io.get_image_files(basedir, \"\")\n"
   ]
  },
  {
   "cell_type": "code",
   "execution_count": 10,
   "metadata": {},
   "outputs": [],
   "source": [
    "np.set_printoptions(threshold=1000)"
   ]
  },
  {
   "cell_type": "code",
   "execution_count": 11,
   "metadata": {},
   "outputs": [],
   "source": [
    "A = Image.open(files[0]).convert(\"L\")\n",
    "B = np.asarray(A)\n",
    "C = np.zeros_like(B)"
   ]
  },
  {
   "cell_type": "code",
   "execution_count": 12,
   "metadata": {},
   "outputs": [
    {
     "data": {
      "text/plain": [
       "array([[255, 255, 255, ..., 255, 255, 255],\n",
       "       [255, 255, 255, ..., 255, 255, 255],\n",
       "       [255, 255, 255, ..., 255, 255, 255],\n",
       "       ...,\n",
       "       [255, 255, 255, ..., 255, 255, 255],\n",
       "       [255, 255, 255, ..., 255, 255, 255],\n",
       "       [255, 255, 255, ..., 255, 255, 255]], dtype=uint8)"
      ]
     },
     "execution_count": 12,
     "metadata": {},
     "output_type": "execute_result"
    }
   ],
   "source": [
    "B"
   ]
  },
  {
   "cell_type": "code",
   "execution_count": 13,
   "metadata": {},
   "outputs": [],
   "source": [
    "for f in files:  \n",
    "    A = Image.open(f).convert(\"L\") # convert outlined image into grayscale \n",
    "    B = np.asarray(A)\n",
    "    for i in range(len(B)): \n",
    "        for j in range(len(B)):\n",
    "            if B[i, j] != 255: \n",
    "                C[i,j] += 1 \n"
   ]
  },
  {
   "cell_type": "code",
   "execution_count": 1,
   "metadata": {},
   "outputs": [
    {
     "ename": "NameError",
     "evalue": "name 'plt' is not defined",
     "output_type": "error",
     "traceback": [
      "\u001b[1;31m---------------------------------------------------------------------------\u001b[0m",
      "\u001b[1;31mNameError\u001b[0m                                 Traceback (most recent call last)",
      "\u001b[1;32mc:\\Users\\birat\\Documents\\Internship_Code\\Cellpose_Probablity.ipynb Cell 6\u001b[0m in \u001b[0;36m<cell line: 1>\u001b[1;34m()\u001b[0m\n\u001b[1;32m----> <a href='vscode-notebook-cell:/c%3A/Users/birat/Documents/Internship_Code/Cellpose_Probablity.ipynb#ch0000005?line=0'>1</a>\u001b[0m plt\u001b[39m.\u001b[39mimshow(C)\n",
      "\u001b[1;31mNameError\u001b[0m: name 'plt' is not defined"
     ]
    }
   ],
   "source": [
    "plt.imshow(C)"
   ]
  },
  {
   "cell_type": "code",
   "execution_count": 17,
   "metadata": {},
   "outputs": [],
   "source": [
    "\n",
    "import numpy as np\n",
    "import matplotlib.pyplot as plt\n",
    "from cellpose import models, io\n",
    "from cellpose.io import imread\n",
    "from pathlib import Path\n",
    "import os\n",
    "\n",
    "# List of Files\n",
    "basedir = os.path.join(Path.cwd(), \"Images\")\n",
    "files = io.get_image_files(basedir, \"\")\n",
    "\n",
    " "
   ]
  },
  {
   "cell_type": "code",
   "execution_count": 19,
   "metadata": {},
   "outputs": [],
   "source": [
    "\n",
    "dir = os.path.join(Path.cwd(), \"Images\\\\\")\n",
    "count = 0\n",
    "for f in files: \n",
    "    os.rename(f, dir + str(count) + \".png\" )\n",
    "    count = count + 1 "
   ]
  },
  {
   "cell_type": "code",
   "execution_count": null,
   "metadata": {},
   "outputs": [],
   "source": [
    "np.set_printoptions(threshold=np.inf)"
   ]
  },
  {
   "cell_type": "code",
   "execution_count": 12,
   "metadata": {},
   "outputs": [
    {
     "name": "stdout",
     "output_type": "stream",
     "text": [
      "c:\\Users\\birat\\Documents\\Internship_Code\\2Images\n"
     ]
    }
   ],
   "source": [
    "\n",
    "print(dir)"
   ]
  },
  {
   "cell_type": "code",
   "execution_count": null,
   "metadata": {},
   "outputs": [],
   "source": [
    "import matplotlib.pyplot as plt \n",
    "data = C \n",
    "plt.scatter(D, E, c=data[:, 2], cmap='hot')"
   ]
  }
 ],
 "metadata": {
  "kernelspec": {
   "display_name": "Python 3.9.12 ('base')",
   "language": "python",
   "name": "python3"
  },
  "language_info": {
   "codemirror_mode": {
    "name": "ipython",
    "version": 3
   },
   "file_extension": ".py",
   "mimetype": "text/x-python",
   "name": "python",
   "nbconvert_exporter": "python",
   "pygments_lexer": "ipython3",
   "version": "3.9.12"
  },
  "orig_nbformat": 4,
  "vscode": {
   "interpreter": {
    "hash": "d850ae00bc40dfc8433057f5becab0d0ff9bac1b3b7822254cc13391e260b37a"
   }
  }
 },
 "nbformat": 4,
 "nbformat_minor": 2
}
